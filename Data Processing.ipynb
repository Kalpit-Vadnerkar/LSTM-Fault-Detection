{
 "cells": [
  {
   "cell_type": "code",
   "execution_count": 1,
   "id": "5e92173b",
   "metadata": {
    "tags": []
   },
   "outputs": [],
   "source": [
    "import numpy as np\n",
    "import os\n",
    "from scipy.io import loadmat\n",
    "from sklearn.preprocessing import LabelEncoder\n",
    "from sklearn.preprocessing import StandardScaler, OneHotEncoder\n",
    "import pickle"
   ]
  },
  {
   "cell_type": "code",
   "execution_count": 2,
   "id": "e388a1ba",
   "metadata": {
    "tags": []
   },
   "outputs": [
    {
     "name": "stdout",
     "output_type": "stream",
     "text": [
      "{'SLS': 5, 'SRS': 6, 'RSL': 3, 'RSR': 4, 'ISO Double Lane Change': 0, 'LSR': 2, 'LSL': 1}\n"
     ]
    }
   ],
   "source": [
    "# Define the root path\n",
    "root_path = '/home/kvadner/Fault Detection/nav-dyna/Simulation Results/'\n",
    "data_folder = '/home/kvadner/Fault Detection/LSTM-Fault-Detection/data2'\n",
    "# Initialize a LabelEncoder to convert maneuver names into categorical variables\n",
    "label_encoder = LabelEncoder()\n",
    "maneuvers = [name for name in os.listdir(root_path) if os.path.isdir(os.path.join(root_path, name))]\n",
    "maneuver_encoding = label_encoder.fit_transform(maneuvers)\n",
    "maneuver_dict = dict(zip(maneuvers, maneuver_encoding))\n",
    "print(maneuver_dict)\n",
    "\n",
    "sequence_length = 35"
   ]
  },
  {
   "cell_type": "code",
   "execution_count": 3,
   "id": "456bf20e",
   "metadata": {},
   "outputs": [],
   "source": [
    "# Function to create sequences including maneuver code, now converting to float32\n",
    "def create_sequences(group, sequence_length, one_hot_label):\n",
    "    X, maneuver_labels, y = [], [], []\n",
    "    for i in range(len(group['u']) - 2 * sequence_length + 1):\n",
    "        X_sub_seq, Y_sub_seq = [], []\n",
    "        for variable, data in group.items():\n",
    "            X_seq = data[i:(i + sequence_length)]\n",
    "            y_seq = data[i + sequence_length:i + 2 * sequence_length]\n",
    "            X_sub_seq.append(X_seq)\n",
    "            Y_sub_seq.append(y_seq)\n",
    "        X.append(X_sub_seq)\n",
    "        y.append(Y_sub_seq)\n",
    "        maneuver_labels.append(one_hot_label)\n",
    "    return np.array(X, dtype=np.float32), np.array(maneuver_labels, dtype=np.float32), np.array(y, dtype=np.float32)"
   ]
  },
  {
   "cell_type": "code",
   "execution_count": 4,
   "id": "cebbc01d-e3a7-40c8-819b-9baba1825fd7",
   "metadata": {},
   "outputs": [],
   "source": [
    "features = ['theta', 'v', 'r', 'ay', 'force', 'u','xu', 'xy']\n",
    "# Collect all data and labels\n",
    "def collect_all_data(root_path, maneuver_dict):\n",
    "    all_sequences = []\n",
    "    labels = []\n",
    "    for maneuver_name in maneuver_dict.keys():\n",
    "        maneuver_path = os.path.join(root_path, maneuver_name)\n",
    "        maneuver_code = maneuver_dict[maneuver_name]\n",
    "        for velocity_folder in os.listdir(maneuver_path):\n",
    "            velocity_path = os.path.join(maneuver_path, velocity_folder)\n",
    "            for file in os.listdir(velocity_path):\n",
    "                if file.endswith('.mat'):\n",
    "                    file_path = os.path.join(velocity_path, file)\n",
    "                    sim_result = loadmat(file_path)\n",
    "\n",
    "                    # Collect each variable as a separate sequence and group them\n",
    "                    group = {variable: sim_result[variable].flatten() for variable in features}\n",
    "                    all_sequences.append(group)\n",
    "                    labels.append(maneuver_code)  # The same maneuver code for the entire group\n",
    "    return all_sequences, labels\n"
   ]
  },
  {
   "cell_type": "code",
   "execution_count": 5,
   "id": "c684eeb1-c775-46e6-8332-04003aaeec03",
   "metadata": {
    "tags": []
   },
   "outputs": [],
   "source": [
    "all_data, all_labels = collect_all_data(root_path, maneuver_dict)"
   ]
  },
  {
   "cell_type": "code",
   "execution_count": 6,
   "id": "c18ed58d",
   "metadata": {
    "tags": []
   },
   "outputs": [],
   "source": [
    "scalers = {variable: StandardScaler() for variable in all_data[0].keys()}\n",
    "for variable in scalers.keys():\n",
    "    # Concatenate data for each variable across all groups for scaling\n",
    "    variable_data = np.concatenate([group[variable] for group in all_data])\n",
    "    scalers[variable].fit(variable_data.reshape(-1, 1))\n",
    "\n",
    "for variable, scaler in scalers.items():\n",
    "    with open(f'scaler_{variable}.pkl', 'wb') as file:\n",
    "        pickle.dump(scaler, file)\n",
    "# Apply scaling to each variable in each group\n",
    "scaled_data = []\n",
    "for group in all_data:\n",
    "    scaled_group = {}\n",
    "    for variable, data in group.items():\n",
    "        scaled_group[variable] = scalers[variable].transform(data.reshape(-1, 1)).flatten()\n",
    "    scaled_data.append(scaled_group)"
   ]
  },
  {
   "cell_type": "code",
   "execution_count": 7,
   "id": "96fb1ab2-af77-4a6a-bf62-b8c83a04066b",
   "metadata": {},
   "outputs": [
    {
     "name": "stderr",
     "output_type": "stream",
     "text": [
      "/software/spackages/linux-rocky8-x86_64/gcc-9.5.0/anaconda3-2022.05-zyrazrj6uvrtukupqzhaslr63w7hj6in/envs/pytorch_workshop/lib/python3.10/site-packages/sklearn/preprocessing/_encoders.py:868: FutureWarning: `sparse` was renamed to `sparse_output` in version 1.2 and will be removed in 1.4. `sparse_output` is ignored unless you leave `sparse` to its default value.\n",
      "  warnings.warn(\n"
     ]
    }
   ],
   "source": [
    "# Step 2: One-hot encode the maneuver labels\n",
    "one_hot_encoder = OneHotEncoder(sparse=False)\n",
    "one_hot_labels = one_hot_encoder.fit_transform(np.array(all_labels).reshape(-1, 1))"
   ]
  },
  {
   "cell_type": "code",
   "execution_count": 8,
   "id": "4bb31d9a-870a-49cb-b5dc-e35681c35b4d",
   "metadata": {},
   "outputs": [],
   "source": [
    "# These will hold all the sequence data and labels\n",
    "sequence_data = []\n",
    "sequence_labels = []\n",
    "sequence_output = []\n",
    "\n",
    "# Iterate through all_data and all_labels to create sequences\n",
    "for i in range(len(scaled_data)):\n",
    "    X, maneuver_label, y = create_sequences(scaled_data[i], sequence_length, one_hot_labels[i])\n",
    "    sequence_data.append(X)\n",
    "    sequence_labels.append(maneuver_label)\n",
    "    sequence_output.append(y)\n",
    "\n",
    "# Convert to numpy arrays\n",
    "final_X = np.concatenate(sequence_data, axis=0)\n",
    "final_maneuver_labels = np.concatenate(sequence_labels, axis=0)\n",
    "final_y = np.concatenate(sequence_output, axis=0)"
   ]
  },
  {
   "cell_type": "code",
   "execution_count": 9,
   "id": "b2a3af1f-6c68-4582-9194-be79fad54b3e",
   "metadata": {
    "tags": []
   },
   "outputs": [
    {
     "name": "stdout",
     "output_type": "stream",
     "text": [
      "(3219931, 8, 35)\n",
      "(3219931, 7)\n",
      "(3219931, 8, 35)\n",
      "Completed processing all maneuvers\n"
     ]
    }
   ],
   "source": [
    "print(final_X.shape)\n",
    "print(final_maneuver_labels.shape)\n",
    "print(final_y.shape)\n",
    "# Save the complete dataset\n",
    "np.save(os.path.join(data_folder, 'X_data.npy'), final_X)\n",
    "np.save(os.path.join(data_folder, 'maneuver_labels.npy'), final_maneuver_labels)\n",
    "np.save(os.path.join(data_folder, 'Y_data.npy'), final_y)\n",
    "\n",
    "print(\"Completed processing all maneuvers\")\n"
   ]
  },
  {
   "cell_type": "code",
   "execution_count": null,
   "id": "451e0f28-2bda-4a60-b86b-0460569011d4",
   "metadata": {},
   "outputs": [],
   "source": []
  }
 ],
 "metadata": {
  "kernelspec": {
   "display_name": "Python 3 (ipykernel)",
   "language": "python",
   "name": "python3"
  },
  "language_info": {
   "codemirror_mode": {
    "name": "ipython",
    "version": 3
   },
   "file_extension": ".py",
   "mimetype": "text/x-python",
   "name": "python",
   "nbconvert_exporter": "python",
   "pygments_lexer": "ipython3",
   "version": "3.10.9"
  }
 },
 "nbformat": 4,
 "nbformat_minor": 5
}
